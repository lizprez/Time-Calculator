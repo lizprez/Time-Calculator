{
 "cells": [
  {
   "cell_type": "code",
   "execution_count": 1,
   "id": "5dc3fbb4",
   "metadata": {},
   "outputs": [],
   "source": [
    "def add_time(start, duration, starting_day=None):\n",
    "    \n",
    "    #for all cases: am and pm\n",
    "    days_week=['monday','tuesday','wednesday','thursday','friday','saturday','sunday']\n",
    "    pos_starting_day=0\n",
    "    \n",
    "    #for am\n",
    "    start_split=list()\n",
    "    duration_split=list()\n",
    "    hour_start=0\n",
    "    min_start=0\n",
    "    min_dur=0\n",
    "    min_end=0\n",
    "    hour_dur=0\n",
    "    hour_end=0\n",
    "    hour_end1=str\n",
    "    sum_hour=0\n",
    "    extra_hour=0\n",
    "    days_later=0\n",
    "    min_end1=str\n",
    "    format_time_am=str\n",
    "    hour_12=0\n",
    "    end_day=str\n",
    "    num_end_day=0\n",
    "    extra_days=0\n",
    "    result=str\n",
    "    \n",
    "    #for pm\n",
    "    start_split1=list()\n",
    "    duration_split1=list()\n",
    "    hour_start1=0\n",
    "    min_start1=0\n",
    "    min_dur1=0\n",
    "    min_end2=0\n",
    "    hour_dur1=0\n",
    "    hour_end2=0\n",
    "    hour_end3=str\n",
    "    sum_hour1=0\n",
    "    extra_hour1=0\n",
    "    days_later1=0\n",
    "    min_end3=str\n",
    "    format_time_pm=str\n",
    "    hour_12_1=0\n",
    "    end_day1=str\n",
    "    num_end_day1=0\n",
    "    extra_days1=0\n",
    "    result1=str\n",
    "    new_time=str\n",
    "    \n",
    "    #FOR AM\n",
    "    \n",
    "    if \"AM\" in start:\n",
    "        start=start.replace('AM','')\n",
    "        start_split=start.split(':')\n",
    "        hour_start=int(start_split[0])\n",
    "        min_start=int(start_split[1])\n",
    "        \n",
    "        duration_split=duration.split(':')\n",
    "        hour_dur=int(duration_split[0])\n",
    "        min_dur=int(duration_split[1])\n",
    "\n",
    "        if min_start+min_dur<60:\n",
    "            min_end=min_start+min_dur\n",
    "            if min_end<10:\n",
    "                min_end1='0'+str(min_end)\n",
    "            else:\n",
    "                min_end1=str(min_end)\n",
    "        else:\n",
    "            min_end=min_start+min_dur-60\n",
    "            extra_hour=extra_hour+1\n",
    "            if min_end<10:\n",
    "                min_end1='0'+str(min_end)\n",
    "            else:\n",
    "                min_end1=str(min_end)\n",
    "        \n",
    "        #compute hours\n",
    "        sum_hour=extra_hour+hour_start+hour_dur\n",
    "        \n",
    "        if sum_hour==12:\n",
    "            format_time_am='PM'\n",
    "            hour_end1=str(12)\n",
    "            \n",
    "        elif sum_hour==24:\n",
    "            format_time='AM'\n",
    "            hour_end1=str(12)\n",
    "        else:\n",
    "            hour_12=sum_hour//12\n",
    "            hour_end=sum_hour-((hour_12)*12)\n",
    "            if hour_12%2==0:\n",
    "                format_time_am='AM'\n",
    "            else:\n",
    "                format_time_am='PM'\n",
    "            hour_end1=str(hour_end)\n",
    "        \n",
    "        days_later=int(sum_hour//24)\n",
    "        \n",
    "        if starting_day is not None:\n",
    "            starting_day=starting_day.lower()\n",
    "            pos_starting_day=days_week.index(starting_day)\n",
    "            \n",
    "            #hallar dia final            \n",
    "            if days_later<7:\n",
    "                end_day=days_week[pos_starting_day + days_later]\n",
    "            \n",
    "            if days_later>7:\n",
    "                extra_days=days_later%7\n",
    "            \n",
    "                if extra_days1>6-pos_starting_day:\n",
    "                    end_day=days_week[extra_days-(6-pos_starting_day+1)]\n",
    "                else:\n",
    "                    end_day=days_week[pos_starting_day + extra_days]\n",
    "                \n",
    "            \n",
    "            if sum_hour<24:\n",
    "                newtime= hour_end1+\":\"+min_end1+\" \"+format_time_am +(\", \") +end_day.capitalize()\n",
    "            \n",
    "            if sum_hour>=24 and sum_hour<48:\n",
    "                newtime= hour_end1+\":\"+min_end1+\" \"+format_time_am +(\", \") +end_day.capitalize() + \" (next day)\"\n",
    "                \n",
    "            if sum_hour>=48:\n",
    "                newtime= hour_end1+\":\"+min_end1+\" \"+format_time_am +(\", \") + end_day.capitalize() + \" (\" +str(days_later)+\"days later)\"\n",
    "                    \n",
    "        if starting_day is None:\n",
    "        \n",
    "            if sum_hour<24:\n",
    "                newtime= hour_end1+\":\"+min_end1+\" \"+format_time_am\n",
    "            \n",
    "            if sum_hour>=24 and sum_hour<48:\n",
    "                newtime= hour_end1+\":\"+min_end1+\" \"+format_time_am+ \" (next day)\"\n",
    "            \n",
    "            if sum_hour>=48:\n",
    "                newtime= hour_end1+\":\"+min_end1+\" \"+format_time_am+\", \"+srt(days_later)+\" (days later)\"\n",
    "\n",
    "     \n",
    "        \n",
    "    #FOR PM\n",
    "        \n",
    "                   \n",
    "    if \"PM\" in start:\n",
    "        start=start.replace('PM','') \n",
    "        start_split1=start.split(':')\n",
    "        hour_start1=int(start_split1[0])\n",
    "        min_start1=int(start_split1[1])\n",
    "        \n",
    "        duration_split1=duration.split(':')\n",
    "        hour_dur1=int(duration_split1[0])\n",
    "        min_dur1=int(duration_split1[1])\n",
    "        \n",
    "        if min_start1+min_dur1<60:\n",
    "            min_end2=min_start1+min_dur1\n",
    "            if min_end2<10:\n",
    "                min_end3='0'+str(min_end2)\n",
    "            else:\n",
    "                min_end3=str(min_end2)\n",
    "        else:\n",
    "            min_end2=min_start1+min_dur1-60\n",
    "            extra_hour1=1\n",
    "            if min_end2<10:\n",
    "                min_end3='0'+str(min_end2)\n",
    "            else:\n",
    "                min_end3=str(min_end2)\n",
    "        \n",
    "        #compute hours\n",
    "        sum_hour1=extra_hour1+hour_start1+hour_dur1\n",
    "        \n",
    "        if sum_hour1==12:\n",
    "            hour_end2=12\n",
    "            format_time_pm='PM'\n",
    "            hour_end3=str(hour_end2)\n",
    "        else:\n",
    "            hour_12_1=sum_hour1//12\n",
    "            hour_end2=sum_hour1-(hour_12_1*12)\n",
    "            \n",
    "        if hour_end2==0:\n",
    "            hour_end2=12\n",
    "            hour_end3=str(12)\n",
    "            format_time_pm='AM' \n",
    "        \n",
    "        if hour_12_1%2==0:\n",
    "            format_time_pm='PM'\n",
    "        if hour_12_1%2!=0:\n",
    "            format_time_pm='AM'\n",
    "        \n",
    "        hour_end3=str(hour_end2)\n",
    "       \n",
    "        if sum_hour1//12%2==0:\n",
    "            days_later1=int((sum_hour1//12)/2)\n",
    "        \n",
    "        else:\n",
    "            days_later1=int(((sum_hour1//12)+1)/2)\n",
    "        \n",
    "        \n",
    "        if starting_day is not None:\n",
    "            starting_day=starting_day.lower()\n",
    "            pos_starting_day=days_week.index(starting_day)\n",
    "            \n",
    "            #hallar dia final            \n",
    "            if days_later1<7:\n",
    "                end_day1=days_week[pos_starting_day + days_later1]\n",
    "            \n",
    "            if days_later1>7:\n",
    "                extra_days1=days_later1%7\n",
    "            \n",
    "                if extra_days1>6-pos_starting_day:\n",
    "                    end_day1=days_week[extra_days1-(6-pos_starting_day+1)]\n",
    "                else:\n",
    "                    end_day1=days_week[pos_starting_day + extra_days1]\n",
    "                \n",
    "            if sum_hour1<12:\n",
    "                newtime= hour_end3+\":\"+min_end3+\" \"+format_time_pm+\", \"+end_day1.capitalize()\n",
    "            \n",
    "            else:\n",
    "                 newtime= hour_end3+\":\"+min_end3+\" \"+format_time_pm+\", \"+end_day1.capitalize() +\" (\"+str(days_later1)+\" days later)\"\n",
    "         \n",
    "        if starting_day is None:\n",
    "        \n",
    "            if sum_hour1<12:\n",
    "                newtime= hour_end3+\":\"+min_end3+\" \"+format_time_pm\n",
    "            \n",
    "            elif sum_hour1>=12 and sum_hour1<36:\n",
    "                newtime= hour_end3+\":\"+min_end3+\" \"+format_time_pm+\" (next day)\"\n",
    "            \n",
    "            else:\n",
    "                newtime= hour_end3+\":\"+min_end3+\" \"+format_time_pm+\" (\"+str(days_later1)+\" days later)\"\n",
    "\n",
    "    #errors to check hour and duration time formats\n",
    "    \n",
    "    if min_dur>59:\n",
    "        print('Minutes in duration time must be less than 60')\n",
    "    \n",
    "    if hour_start>12 or min_start>59:\n",
    "            print('Enter a valid start time in AM or PM format')  \n",
    "\n",
    "    return newtime\n",
    "    \n",
    "   "
   ]
  },
  {
   "cell_type": "code",
   "execution_count": 2,
   "id": "54da7208",
   "metadata": {},
   "outputs": [
    {
     "data": {
      "text/plain": [
       "'6:10 PM'"
      ]
     },
     "execution_count": 2,
     "metadata": {},
     "output_type": "execute_result"
    }
   ],
   "source": [
    "add_time(\"3:00 PM\", \"3:10\") #6:10 PM"
   ]
  },
  {
   "cell_type": "code",
   "execution_count": 3,
   "id": "e3c4bacd",
   "metadata": {},
   "outputs": [
    {
     "data": {
      "text/plain": [
       "'2:02 PM, Monday'"
      ]
     },
     "execution_count": 3,
     "metadata": {},
     "output_type": "execute_result"
    }
   ],
   "source": [
    "add_time(\"11:30 AM\", \"2:32\", \"Monday\") #2:02 PM, Monday"
   ]
  },
  {
   "cell_type": "code",
   "execution_count": 4,
   "id": "5c88277f",
   "metadata": {},
   "outputs": [
    {
     "data": {
      "text/plain": [
       "'12:03 PM'"
      ]
     },
     "execution_count": 4,
     "metadata": {},
     "output_type": "execute_result"
    }
   ],
   "source": [
    "add_time(\"11:43 AM\", \"00:20\") #12:03 PM"
   ]
  },
  {
   "cell_type": "code",
   "execution_count": 5,
   "id": "ed8a309d",
   "metadata": {},
   "outputs": [
    {
     "data": {
      "text/plain": [
       "'1:40 AM (next day)'"
      ]
     },
     "execution_count": 5,
     "metadata": {},
     "output_type": "execute_result"
    }
   ],
   "source": [
    "add_time(\"10:10 PM\", \"3:30\") # 1:40 AM (next day)"
   ]
  },
  {
   "cell_type": "code",
   "execution_count": 6,
   "id": "f7d1c2b3",
   "metadata": {},
   "outputs": [
    {
     "data": {
      "text/plain": [
       "'12:03 AM, Thursday (2 days later)'"
      ]
     },
     "execution_count": 6,
     "metadata": {},
     "output_type": "execute_result"
    }
   ],
   "source": [
    "add_time(\"11:43 PM\", \"24:20\", \"tueSday\") #12:03 AM, Thursday (2 days later)"
   ]
  },
  {
   "cell_type": "code",
   "execution_count": 7,
   "id": "7ffa3e21",
   "metadata": {},
   "outputs": [
    {
     "data": {
      "text/plain": [
       "'7:42 AM (9 days later)'"
      ]
     },
     "execution_count": 7,
     "metadata": {},
     "output_type": "execute_result"
    }
   ],
   "source": [
    "add_time(\"6:30 PM\", \"205:12\") #7:42 AM (9 days later)"
   ]
  },
  {
   "cell_type": "code",
   "execution_count": 8,
   "id": "91a5558a",
   "metadata": {},
   "outputs": [
    {
     "data": {
      "text/plain": [
       "'1:08 AM (next day)'"
      ]
     },
     "execution_count": 8,
     "metadata": {},
     "output_type": "execute_result"
    }
   ],
   "source": [
    "# tests\n",
    "add_time(\"11:06 PM\", \"2:02\") # 01:08 AM (next day)"
   ]
  },
  {
   "cell_type": "code",
   "execution_count": 9,
   "id": "b1c39e7a",
   "metadata": {},
   "outputs": [
    {
     "data": {
      "text/plain": [
       "'5:42 PM'"
      ]
     },
     "execution_count": 9,
     "metadata": {},
     "output_type": "execute_result"
    }
   ],
   "source": [
    "add_time(\"3:30 PM\", \"2:12\") #\"5:42 PM\""
   ]
  },
  {
   "cell_type": "code",
   "execution_count": 10,
   "id": "80b08e86",
   "metadata": {},
   "outputs": [
    {
     "data": {
      "text/plain": [
       "'3:07 PM'"
      ]
     },
     "execution_count": 10,
     "metadata": {},
     "output_type": "execute_result"
    }
   ],
   "source": [
    "add_time(\"11:55 AM\", \"3:12\") #\"3:07 PM\""
   ]
  },
  {
   "cell_type": "code",
   "execution_count": 11,
   "id": "3bef55bb",
   "metadata": {},
   "outputs": [
    {
     "data": {
      "text/plain": [
       "'2:45 AM (next day)'"
      ]
     },
     "execution_count": 11,
     "metadata": {},
     "output_type": "execute_result"
    }
   ],
   "source": [
    "add_time(\"9:15 PM\", \"5:30\") #\"2:45 AM (next day)\""
   ]
  },
  {
   "cell_type": "code",
   "execution_count": 12,
   "id": "4132dacf",
   "metadata": {},
   "outputs": [
    {
     "data": {
      "text/plain": [
       "'12:05 PM'"
      ]
     },
     "execution_count": 12,
     "metadata": {},
     "output_type": "execute_result"
    }
   ],
   "source": [
    "add_time(\"11:40 AM\", \"0:25\") #\"12:05 PM\""
   ]
  },
  {
   "cell_type": "code",
   "execution_count": 13,
   "id": "375b60d4",
   "metadata": {},
   "outputs": [
    {
     "data": {
      "text/plain": [
       "'2:59 AM (next day)'"
      ]
     },
     "execution_count": 13,
     "metadata": {},
     "output_type": "execute_result"
    }
   ],
   "source": [
    "add_time(\"2:59 AM\", \"24:00\") # \"2:59 AM (next day)\""
   ]
  },
  {
   "cell_type": "code",
   "execution_count": 14,
   "id": "e2fb509d",
   "metadata": {},
   "outputs": [
    {
     "data": {
      "text/plain": [
       "'12:04 AM (2 days later)'"
      ]
     },
     "execution_count": 14,
     "metadata": {},
     "output_type": "execute_result"
    }
   ],
   "source": [
    "add_time(\"11:59 PM\", \"24:05\") #\"12:04 AM (2 days later)\""
   ]
  },
  {
   "cell_type": "code",
   "execution_count": 15,
   "id": "b7547f26",
   "metadata": {},
   "outputs": [
    {
     "data": {
      "text/plain": [
       "'6:18 AM (20 days later)'"
      ]
     },
     "execution_count": 15,
     "metadata": {},
     "output_type": "execute_result"
    }
   ],
   "source": [
    "add_time(\"8:16 PM\", \"466:02\") #\"6:18 AM (20 days later)\""
   ]
  },
  {
   "cell_type": "code",
   "execution_count": 16,
   "id": "a1e11f66",
   "metadata": {},
   "outputs": [
    {
     "data": {
      "text/plain": [
       "'5:01 AM'"
      ]
     },
     "execution_count": 16,
     "metadata": {},
     "output_type": "execute_result"
    }
   ],
   "source": [
    "add_time(\"5:01 AM\", \"0:00\") #\"5:01 AM\""
   ]
  },
  {
   "cell_type": "code",
   "execution_count": 17,
   "id": "2f632280",
   "metadata": {},
   "outputs": [
    {
     "data": {
      "text/plain": [
       "'5:42 PM, Monday'"
      ]
     },
     "execution_count": 17,
     "metadata": {},
     "output_type": "execute_result"
    }
   ],
   "source": [
    "add_time(\"3:30 PM\", \"2:12\", \"Monday\") #\"5:42 PM, Monday\""
   ]
  },
  {
   "cell_type": "code",
   "execution_count": 18,
   "id": "2885059c",
   "metadata": {},
   "outputs": [
    {
     "data": {
      "text/plain": [
       "'2:59 AM, Sunday (next day)'"
      ]
     },
     "execution_count": 18,
     "metadata": {},
     "output_type": "execute_result"
    }
   ],
   "source": [
    "add_time(\"2:59 AM\", \"24:00\", \"saturDay\") #\"2:59 AM, Sunday"
   ]
  },
  {
   "cell_type": "code",
   "execution_count": 19,
   "id": "e1f14445",
   "metadata": {},
   "outputs": [
    {
     "data": {
      "text/plain": [
       "'12:04 AM, Friday (2 days later)'"
      ]
     },
     "execution_count": 19,
     "metadata": {},
     "output_type": "execute_result"
    }
   ],
   "source": [
    "add_time(\"11:59 PM\", \"24:05\", \"Wednesday\") # \"12:04 AM, Friday (2 days later)\""
   ]
  },
  {
   "cell_type": "code",
   "execution_count": 20,
   "id": "96440fe7",
   "metadata": {},
   "outputs": [
    {
     "data": {
      "text/plain": [
       "'6:18 AM (20 days later)'"
      ]
     },
     "execution_count": 20,
     "metadata": {},
     "output_type": "execute_result"
    }
   ],
   "source": [
    "add_time(\"8:16 PM\", \"466:02\") #\"6:18 AM, (20 days later)\""
   ]
  },
  {
   "cell_type": "code",
   "execution_count": 21,
   "id": "0e4d8636",
   "metadata": {},
   "outputs": [
    {
     "data": {
      "text/plain": [
       "'6:18 AM, Monday (20 days later)'"
      ]
     },
     "execution_count": 21,
     "metadata": {},
     "output_type": "execute_result"
    }
   ],
   "source": [
    "add_time(\"8:16 PM\", \"466:02\", \"tuesday\") # \"6:18 AM, Monday (20 days later)\""
   ]
  },
  {
   "cell_type": "code",
   "execution_count": 22,
   "id": "289d4f32",
   "metadata": {},
   "outputs": [
    {
     "name": "stdout",
     "output_type": "stream",
     "text": [
      "1:08 AM (next day)\n"
     ]
    }
   ],
   "source": [
    "print(add_time(\"11:06 PM\", \"2:02\"))"
   ]
  },
  {
   "cell_type": "code",
   "execution_count": null,
   "id": "28f73165",
   "metadata": {},
   "outputs": [],
   "source": []
  }
 ],
 "metadata": {
  "kernelspec": {
   "display_name": "Python 3 (ipykernel)",
   "language": "python",
   "name": "python3"
  },
  "language_info": {
   "codemirror_mode": {
    "name": "ipython",
    "version": 3
   },
   "file_extension": ".py",
   "mimetype": "text/x-python",
   "name": "python",
   "nbconvert_exporter": "python",
   "pygments_lexer": "ipython3",
   "version": "3.9.13"
  }
 },
 "nbformat": 4,
 "nbformat_minor": 5
}
